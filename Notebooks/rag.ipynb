{
 "cells": [
  {
   "cell_type": "code",
   "execution_count": null,
   "id": "31338636",
   "metadata": {},
   "outputs": [],
   "source": [
    "# 1. connect to open ai and define embedding model\n",
    "# 2. prepare vector db(chroma cloud)\n",
    "# 3. query vector db(chroma cloud)\n",
    "# 4. pass question and top 2 answers to my llm to restructure answer and make it concise"
   ]
  },
  {
   "cell_type": "code",
   "execution_count": 32,
   "id": "dac07368",
   "metadata": {},
   "outputs": [],
   "source": [
    "from langchain_chroma import Chroma\n",
    "import os\n",
    "# from pyprojroot import here\n",
    "from langchain_openai import OpenAIEmbeddings, ChatOpenAI\n",
    "from openai import OpenAI\n",
    "from dotenv import load_dotenv\n",
    "from pprint import pprint\n",
    "load_dotenv()\n",
    "import chromadb"
   ]
  },
  {
   "cell_type": "code",
   "execution_count": null,
   "id": "c476c8f5",
   "metadata": {},
   "outputs": [],
   "source": [
    "os.environ[\"OPENAI_API_KEY\"] = os.getenv(\"OPEN_AI_API_KEY\")\n",
    "# os.environ[\"EMBEDDING_MODEL\"] = \"\"\n",
    "os.environ[\"CHROMA_API_KEY\"] = os.getenv(\"CHROMA_API_KEY\")\n",
    "os.environ[\"LANGSMITH_API_KEY\"] = os.getenv(\"LANGSMITH_API_KEY\")\n",
    "os.environ[\"LANGSMITH_TRACING\"] = \"true\"\n",
    "  \n",
    "client = chromadb.CloudClient(\n",
    "  api_key= \"ck-8ugJ5sKKBC1ky6L87jWYDbhPTDapdfWPTjTr5tA8fB2h\",\n",
    "  tenant='82905ccd-fe03-4dff-8d77-daab7e235d09',\n",
    "  database='Test'\n",
    ")"
   ]
  },
  {
   "cell_type": "code",
   "execution_count": 33,
   "id": "fbd3a632",
   "metadata": {},
   "outputs": [],
   "source": [
    "sql_agent_llm = ChatOpenAI(model=\"gpt-3.5-turbo\", temperature=0)"
   ]
  },
  {
   "cell_type": "code",
   "execution_count": null,
   "id": "e99bbf39",
   "metadata": {},
   "outputs": [],
   "source": [
    "embeddings = OpenAIEmbeddings(model=\"text-embedding-3-large\")"
   ]
  },
  {
   "cell_type": "code",
   "execution_count": null,
   "id": "768d5a3d",
   "metadata": {},
   "outputs": [],
   "source": []
  },
  {
   "cell_type": "markdown",
   "id": "696a82e3",
   "metadata": {},
   "source": [
    "### Prepare files for db"
   ]
  },
  {
   "cell_type": "code",
   "execution_count": 12,
   "id": "e1284356",
   "metadata": {},
   "outputs": [],
   "source": [
    "from langchain_community.document_loaders import PyPDFLoader\n",
    "from pyprojroot import here\n",
    "from langchain_text_splitters import RecursiveCharacterTextSplitter"
   ]
  },
  {
   "cell_type": "code",
   "execution_count": 10,
   "id": "7622dfea",
   "metadata": {},
   "outputs": [],
   "source": [
    "\n",
    "# if not os.path.exists(here(\"Notebooks\\\\vectorDocs\")):\n",
    "#     os.make\n",
    "\n",
    "# i dont have to create directory because i am adding to cloud\n",
    "file_list = os.listdir(here(\"Notebooks\\\\vectorDocs\"))\n",
    "docs = [PyPDFLoader(here(\"Notebooks\\\\vectorDocs\\\\KRI GUIDE.pdf\")).load_and_split()]"
   ]
  },
  {
   "cell_type": "code",
   "execution_count": 16,
   "id": "613c2ebf",
   "metadata": {},
   "outputs": [],
   "source": [
    "docs = [item for doc in docs for item in doc]"
   ]
  },
  {
   "cell_type": "code",
   "execution_count": 17,
   "id": "87d6ea65",
   "metadata": {},
   "outputs": [
    {
     "data": {
      "text/plain": [
       "[Document(metadata={'producer': 'Microsoft® Word LTSC', 'creator': 'Microsoft® Word LTSC', 'creationdate': '2025-08-14T12:02:07+00:00', 'author': 'user', 'moddate': '2025-08-14T12:02:07+00:00', 'source': 'c:\\\\Users\\\\user\\\\Documents\\\\NPL\\\\LLM-WOKG\\\\Notebooks\\\\vectorDocs\\\\KRI GUIDE.pdf', 'total_pages': 3, 'page': 0, 'page_label': '1'}, page_content='GUIDE FOR FUTURE KRI DOCUMENTS \\n1. Unit – No comments  \\n2. SN – No comments \\n3. KRI Standard – No comments \\n4. Key Risk Indicator \\na. As part of ETL findings, some identified risks are not potential risks the company \\nfaces. The document must be reevaluated for data quality purposes. For \\nexample, ‘# total number of requests received’ (Total media correspondences \\n(including social media) that have been reported and percentage of closed \\nrequests) is not a risk to the company. \\n5. Basis for compilation of KRI data – No comments \\n6. Risk Category  \\na. For dashboarding risk should be categorized by the different types of risks, not \\nonly operational risk i.e. IT, operational, compliance, reputational, credit, \\nliquidity, market, strategic, governance risk. \\nb. The description of the risk should be considered when doing categorization.  \\nc. Care should be taken to avoid the inclusion of numbers, special characters, and \\nspelling mistakes. \\n7. Threshold Limits \\na. If threshold limit does not exist, value should be set to null. Do not use N/A, _, -, \\nTBD, or any other special characters. \\nb. The description of the KRI should match the threshold limit. For example, \\nAmount of aggregate loss event should be an amount in a currency and not < \\n0.1% of PBT. \\nc. If threshold limit is a fraction/percentage of another measurement, the format \\nshould be {percentage} of {value}. For example, <0.1% of PBT.  \\nd. If threshold limit is per another value, the format should be {percentage} per \\n{value}. For example, <0.1% per PFI. The value after per would be placed in a \\nContext Per column for dashboarding.  \\ne. Numerical values should not include their natural language equivalent separated \\nby ‘=’. Instead of 100%=Established & operational, do 100%. \\nf. If natural language must be included in value do not include a comma or any \\nother separator. For example, 50% of SHF of such PFI, unimpaired by losses or \\n50% of SHF of such PFI_unimpaired by losses should be 50% of SHF of such PFI \\nunimpaired by losses. \\ng. If development partner must be included, create a new column for the \\ndevelopment partner.'),\n",
       " Document(metadata={'producer': 'Microsoft® Word LTSC', 'creator': 'Microsoft® Word LTSC', 'creationdate': '2025-08-14T12:02:07+00:00', 'author': 'user', 'moddate': '2025-08-14T12:02:07+00:00', 'source': 'c:\\\\Users\\\\user\\\\Documents\\\\NPL\\\\LLM-WOKG\\\\Notebooks\\\\vectorDocs\\\\KRI GUIDE.pdf', 'total_pages': 3, 'page': 1, 'page_label': '2'}, page_content='i. Creating a Development Partner column \\n1. For Development Partner if value is empty make it null. \\n2. Do not include the year e.g. KfW (2023) should be KfW \\n3. Care should be taken to avoid the inclusion of numbers, special \\ncharacters, and spelling mistakes. \\nii. Here are examples of what the Threshold Limits and Development Partner \\ncolumns would be; \\n1. Instead of Threshold Limits being KfW (2023): USD 2 mil  \\na. Threshold Limits would be USD 2000000. \\nb. Development Partner would be KfW. \\n2. Instead of Threshold Limits being WB: 15% (end) Intermediate \\ntarget of 5-10% \\na. Threshold Limits would be 15%. \\nb. Development Partner would be WB. \\nh. All numeric values should be in purely numeric format with no natural language \\nequivalents or natural language abbreviations. Instead of USD 2 mil or 3 (three) \\nthe inputs would be USD 2000000 and 3 respectively. \\ni. If there are two different threshold limits (where different means they are \\nfractions of different units eg. < 15% of Borrower Capital and 10% of Regulatory \\nCapital) the threshold limits should be separated by ‘or’. Instead of < 15% of \\nBorrower Capital     10% of Regulatory Capital, do < 15% of Borrower Capital or \\n10% of Regulatory Capital. \\nj. Numbers higher than the 1000s should not have every third digit from the left \\nseparated by a comma. For example, instead of USD10,000, do USD 10000. \\nk. If threshold limits have currency, use the common abbreviation with no special \\ncharacters. Do not do Ghanaian Cedi or Gh.Cedi, instead do GHC. Also, separate \\ncurrency and value with a space. \\nl. All comparisons should be signs and not be in natural language. Instead of Shall \\nnot be lower than or Shall not exceed, do >= and <= respectively. \\nm. Comparisons should not have spaces e.g. > = should be >=. \\nn. All threshold limits should be expressed as numbers and not in natural language. \\nValues like Established & operational, Full policy coverage, and Licensed(0) \\nshould not be in the column. Numeric equivalents should be used instead. \\n8. Tolerance Limit  \\na. All instruction for 6. Threshold Limits apply to Tolerance Limit. \\nb. If tolerance limit is a range, eg. >0, <=1 upper bound of the range should be used. \\nInstead of >0, <=1 do <=1. Note that upper bound may differ according to KRI \\nmeasurement. E.g. <100%, >=60% should be >=60%.'),\n",
       " Document(metadata={'producer': 'Microsoft® Word LTSC', 'creator': 'Microsoft® Word LTSC', 'creationdate': '2025-08-14T12:02:07+00:00', 'author': 'user', 'moddate': '2025-08-14T12:02:07+00:00', 'source': 'c:\\\\Users\\\\user\\\\Documents\\\\NPL\\\\LLM-WOKG\\\\Notebooks\\\\vectorDocs\\\\KRI GUIDE.pdf', 'total_pages': 3, 'page': 2, 'page_label': '3'}, page_content='9. Escalation Limit \\na. All instruction for 6. Threshold Limits and Tolerance Limit apply to Escalation \\nLimit. \\n10. Frequency – no comments  \\n11. Status – no comments \\n12. Current Mth \\na. All current month values should be expressed as numbers and not in natural \\nlanguage. Values like ‘training is throughout the year and will begin end of this \\nmonth’ and ‘Annual Returns have been sent to the Registrar of Companies for \\nfiling’ should not be in the column. Numeric equivalents should be used instead. \\nIf numeric equivalents do not exist, replace with null. \\nb. All instruction for 6. Threshold Limits and Tolerance Limit apply to Current Mth.  \\n13. Responsible Person \\na. Should be a title rather than person’s name.')]"
      ]
     },
     "execution_count": 17,
     "metadata": {},
     "output_type": "execute_result"
    }
   ],
   "source": [
    "docs"
   ]
  },
  {
   "cell_type": "code",
   "execution_count": 15,
   "id": "049db29d",
   "metadata": {},
   "outputs": [
    {
     "data": {
      "text/plain": [
       "list"
      ]
     },
     "execution_count": 15,
     "metadata": {},
     "output_type": "execute_result"
    }
   ],
   "source": [
    "type(docs)"
   ]
  },
  {
   "cell_type": "code",
   "execution_count": 18,
   "id": "9d4ccb1e",
   "metadata": {},
   "outputs": [],
   "source": [
    "text_splitter = RecursiveCharacterTextSplitter.from_tiktoken_encoder(\n",
    "    chunk_size=500, chunk_overlap=100\n",
    ")"
   ]
  },
  {
   "cell_type": "code",
   "execution_count": 20,
   "id": "89c02f95",
   "metadata": {},
   "outputs": [],
   "source": [
    "doc_splits = text_splitter.split_documents(docs)"
   ]
  },
  {
   "cell_type": "code",
   "execution_count": 21,
   "id": "c7f011f4",
   "metadata": {},
   "outputs": [
    {
     "data": {
      "text/plain": [
       "[Document(metadata={'producer': 'Microsoft® Word LTSC', 'creator': 'Microsoft® Word LTSC', 'creationdate': '2025-08-14T12:02:07+00:00', 'author': 'user', 'moddate': '2025-08-14T12:02:07+00:00', 'source': 'c:\\\\Users\\\\user\\\\Documents\\\\NPL\\\\LLM-WOKG\\\\Notebooks\\\\vectorDocs\\\\KRI GUIDE.pdf', 'total_pages': 3, 'page': 0, 'page_label': '1'}, page_content='GUIDE FOR FUTURE KRI DOCUMENTS \\n1. Unit – No comments  \\n2. SN – No comments \\n3. KRI Standard – No comments \\n4. Key Risk Indicator \\na. As part of ETL findings, some identified risks are not potential risks the company \\nfaces. The document must be reevaluated for data quality purposes. For \\nexample, ‘# total number of requests received’ (Total media correspondences \\n(including social media) that have been reported and percentage of closed \\nrequests) is not a risk to the company. \\n5. Basis for compilation of KRI data – No comments \\n6. Risk Category  \\na. For dashboarding risk should be categorized by the different types of risks, not \\nonly operational risk i.e. IT, operational, compliance, reputational, credit, \\nliquidity, market, strategic, governance risk. \\nb. The description of the risk should be considered when doing categorization.  \\nc. Care should be taken to avoid the inclusion of numbers, special characters, and \\nspelling mistakes. \\n7. Threshold Limits \\na. If threshold limit does not exist, value should be set to null. Do not use N/A, _, -, \\nTBD, or any other special characters. \\nb. The description of the KRI should match the threshold limit. For example, \\nAmount of aggregate loss event should be an amount in a currency and not < \\n0.1% of PBT. \\nc. If threshold limit is a fraction/percentage of another measurement, the format \\nshould be {percentage} of {value}. For example, <0.1% of PBT.  \\nd. If threshold limit is per another value, the format should be {percentage} per \\n{value}. For example, <0.1% per PFI. The value after per would be placed in a \\nContext Per column for dashboarding.  \\ne. Numerical values should not include their natural language equivalent separated \\nby ‘=’. Instead of 100%=Established & operational, do 100%. \\nf. If natural language must be included in value do not include a comma or any'),\n",
       " Document(metadata={'producer': 'Microsoft® Word LTSC', 'creator': 'Microsoft® Word LTSC', 'creationdate': '2025-08-14T12:02:07+00:00', 'author': 'user', 'moddate': '2025-08-14T12:02:07+00:00', 'source': 'c:\\\\Users\\\\user\\\\Documents\\\\NPL\\\\LLM-WOKG\\\\Notebooks\\\\vectorDocs\\\\KRI GUIDE.pdf', 'total_pages': 3, 'page': 0, 'page_label': '1'}, page_content='{value}. For example, <0.1% per PFI. The value after per would be placed in a \\nContext Per column for dashboarding.  \\ne. Numerical values should not include their natural language equivalent separated \\nby ‘=’. Instead of 100%=Established & operational, do 100%. \\nf. If natural language must be included in value do not include a comma or any \\nother separator. For example, 50% of SHF of such PFI, unimpaired by losses or \\n50% of SHF of such PFI_unimpaired by losses should be 50% of SHF of such PFI \\nunimpaired by losses. \\ng. If development partner must be included, create a new column for the \\ndevelopment partner.'),\n",
       " Document(metadata={'producer': 'Microsoft® Word LTSC', 'creator': 'Microsoft® Word LTSC', 'creationdate': '2025-08-14T12:02:07+00:00', 'author': 'user', 'moddate': '2025-08-14T12:02:07+00:00', 'source': 'c:\\\\Users\\\\user\\\\Documents\\\\NPL\\\\LLM-WOKG\\\\Notebooks\\\\vectorDocs\\\\KRI GUIDE.pdf', 'total_pages': 3, 'page': 1, 'page_label': '2'}, page_content='i. Creating a Development Partner column \\n1. For Development Partner if value is empty make it null. \\n2. Do not include the year e.g. KfW (2023) should be KfW \\n3. Care should be taken to avoid the inclusion of numbers, special \\ncharacters, and spelling mistakes. \\nii. Here are examples of what the Threshold Limits and Development Partner \\ncolumns would be; \\n1. Instead of Threshold Limits being KfW (2023): USD 2 mil  \\na. Threshold Limits would be USD 2000000. \\nb. Development Partner would be KfW. \\n2. Instead of Threshold Limits being WB: 15% (end) Intermediate \\ntarget of 5-10% \\na. Threshold Limits would be 15%. \\nb. Development Partner would be WB. \\nh. All numeric values should be in purely numeric format with no natural language \\nequivalents or natural language abbreviations. Instead of USD 2 mil or 3 (three) \\nthe inputs would be USD 2000000 and 3 respectively. \\ni. If there are two different threshold limits (where different means they are \\nfractions of different units eg. < 15% of Borrower Capital and 10% of Regulatory \\nCapital) the threshold limits should be separated by ‘or’. Instead of < 15% of \\nBorrower Capital     10% of Regulatory Capital, do < 15% of Borrower Capital or \\n10% of Regulatory Capital. \\nj. Numbers higher than the 1000s should not have every third digit from the left \\nseparated by a comma. For example, instead of USD10,000, do USD 10000. \\nk. If threshold limits have currency, use the common abbreviation with no special \\ncharacters. Do not do Ghanaian Cedi or Gh.Cedi, instead do GHC. Also, separate \\ncurrency and value with a space. \\nl. All comparisons should be signs and not be in natural language. Instead of Shall \\nnot be lower than or Shall not exceed, do >= and <= respectively. \\nm. Comparisons should not have spaces e.g. > = should be >=.'),\n",
       " Document(metadata={'producer': 'Microsoft® Word LTSC', 'creator': 'Microsoft® Word LTSC', 'creationdate': '2025-08-14T12:02:07+00:00', 'author': 'user', 'moddate': '2025-08-14T12:02:07+00:00', 'source': 'c:\\\\Users\\\\user\\\\Documents\\\\NPL\\\\LLM-WOKG\\\\Notebooks\\\\vectorDocs\\\\KRI GUIDE.pdf', 'total_pages': 3, 'page': 1, 'page_label': '2'}, page_content='characters. Do not do Ghanaian Cedi or Gh.Cedi, instead do GHC. Also, separate \\ncurrency and value with a space. \\nl. All comparisons should be signs and not be in natural language. Instead of Shall \\nnot be lower than or Shall not exceed, do >= and <= respectively. \\nm. Comparisons should not have spaces e.g. > = should be >=. \\nn. All threshold limits should be expressed as numbers and not in natural language. \\nValues like Established & operational, Full policy coverage, and Licensed(0) \\nshould not be in the column. Numeric equivalents should be used instead. \\n8. Tolerance Limit  \\na. All instruction for 6. Threshold Limits apply to Tolerance Limit. \\nb. If tolerance limit is a range, eg. >0, <=1 upper bound of the range should be used. \\nInstead of >0, <=1 do <=1. Note that upper bound may differ according to KRI \\nmeasurement. E.g. <100%, >=60% should be >=60%.'),\n",
       " Document(metadata={'producer': 'Microsoft® Word LTSC', 'creator': 'Microsoft® Word LTSC', 'creationdate': '2025-08-14T12:02:07+00:00', 'author': 'user', 'moddate': '2025-08-14T12:02:07+00:00', 'source': 'c:\\\\Users\\\\user\\\\Documents\\\\NPL\\\\LLM-WOKG\\\\Notebooks\\\\vectorDocs\\\\KRI GUIDE.pdf', 'total_pages': 3, 'page': 2, 'page_label': '3'}, page_content='9. Escalation Limit \\na. All instruction for 6. Threshold Limits and Tolerance Limit apply to Escalation \\nLimit. \\n10. Frequency – no comments  \\n11. Status – no comments \\n12. Current Mth \\na. All current month values should be expressed as numbers and not in natural \\nlanguage. Values like ‘training is throughout the year and will begin end of this \\nmonth’ and ‘Annual Returns have been sent to the Registrar of Companies for \\nfiling’ should not be in the column. Numeric equivalents should be used instead. \\nIf numeric equivalents do not exist, replace with null. \\nb. All instruction for 6. Threshold Limits and Tolerance Limit apply to Current Mth.  \\n13. Responsible Person \\na. Should be a title rather than person’s name.')]"
      ]
     },
     "execution_count": 21,
     "metadata": {},
     "output_type": "execute_result"
    }
   ],
   "source": [
    "doc_splits"
   ]
  },
  {
   "cell_type": "code",
   "execution_count": 23,
   "id": "719c1326",
   "metadata": {},
   "outputs": [],
   "source": [
    "from uuid import uuid4\n",
    "uuids = [str(uuid4()) for _ in range(len(doc_splits))]"
   ]
  },
  {
   "cell_type": "code",
   "execution_count": null,
   "id": "24502bb3",
   "metadata": {},
   "outputs": [],
   "source": [
    "# vectordb = Chroma.from_documents(\n",
    "#                 documents=doc_splits,\n",
    "#                 collection_name=self.collection_name,\n",
    "#                 embedding=OpenAIEmbeddings(model=self.embedding_model),\n",
    "#                 persist_directory=str(here(self.vectordb_dir))\n",
    "#             )"
   ]
  },
  {
   "cell_type": "markdown",
   "id": "f4e5ba82",
   "metadata": {},
   "source": []
  },
  {
   "cell_type": "code",
   "execution_count": 22,
   "id": "68bd92a4",
   "metadata": {},
   "outputs": [],
   "source": [
    "vector_store = Chroma(\n",
    "    collection_name=\"example_collection\",\n",
    "    embedding_function=embeddings,\n",
    "    chroma_cloud_api_key=os.getenv(\"CHROMA_API_KEY\"),\n",
    "    tenant=\"82905ccd-fe03-4dff-8d77-daab7e235d09\",\n",
    "    database=\"Test\",\n",
    ")"
   ]
  },
  {
   "cell_type": "code",
   "execution_count": 24,
   "id": "43891a24",
   "metadata": {},
   "outputs": [
    {
     "data": {
      "text/plain": [
       "['6b3088f5-8fd3-4ed4-8aa5-a893a5b8d67b',\n",
       " 'd59f4235-3376-41e6-b862-518a85a46f24',\n",
       " '05728f6d-cc86-4150-ae7c-deafde3310e9',\n",
       " '98b3c0b6-f5dc-4975-a929-4c996fb1242a',\n",
       " 'fd43e972-47ae-4e71-b315-713f8b76137d']"
      ]
     },
     "execution_count": 24,
     "metadata": {},
     "output_type": "execute_result"
    }
   ],
   "source": [
    "vector_store.add_documents(documents=doc_splits, ids=uuids)"
   ]
  },
  {
   "cell_type": "code",
   "execution_count": 25,
   "id": "133f18ed",
   "metadata": {},
   "outputs": [
    {
     "name": "stdout",
     "output_type": "stream",
     "text": [
      "Number of vectors in vectordb: 5 \n",
      "\n",
      "\n"
     ]
    }
   ],
   "source": [
    "print(\"Number of vectors in vectordb:\",\n",
    "      vector_store._collection.count(), \"\\n\\n\")"
   ]
  },
  {
   "cell_type": "code",
   "execution_count": 34,
   "id": "0ce9bd84",
   "metadata": {},
   "outputs": [],
   "source": [
    "message = \"how do i represent currencies in my kri document?\""
   ]
  },
  {
   "cell_type": "code",
   "execution_count": 36,
   "id": "ae1d5e5b",
   "metadata": {},
   "outputs": [],
   "source": [
    "vectorAns = vector_store.similarity_search(message, k=2)"
   ]
  },
  {
   "cell_type": "code",
   "execution_count": 37,
   "id": "a0cd544d",
   "metadata": {},
   "outputs": [
    {
     "data": {
      "text/plain": [
       "[Document(id='98b3c0b6-f5dc-4975-a929-4c996fb1242a', metadata={'author': 'user', 'creationdate': '2025-08-14T12:02:07+00:00', 'creator': 'Microsoft® Word LTSC', 'producer': 'Microsoft® Word LTSC', 'source': 'c:\\\\Users\\\\user\\\\Documents\\\\NPL\\\\LLM-WOKG\\\\Notebooks\\\\vectorDocs\\\\KRI GUIDE.pdf', 'moddate': '2025-08-14T12:02:07+00:00', 'page_label': '2', 'total_pages': 3, 'page': 1}, page_content='characters. Do not do Ghanaian Cedi or Gh.Cedi, instead do GHC. Also, separate \\ncurrency and value with a space. \\nl. All comparisons should be signs and not be in natural language. Instead of Shall \\nnot be lower than or Shall not exceed, do >= and <= respectively. \\nm. Comparisons should not have spaces e.g. > = should be >=. \\nn. All threshold limits should be expressed as numbers and not in natural language. \\nValues like Established & operational, Full policy coverage, and Licensed(0) \\nshould not be in the column. Numeric equivalents should be used instead. \\n8. Tolerance Limit  \\na. All instruction for 6. Threshold Limits apply to Tolerance Limit. \\nb. If tolerance limit is a range, eg. >0, <=1 upper bound of the range should be used. \\nInstead of >0, <=1 do <=1. Note that upper bound may differ according to KRI \\nmeasurement. E.g. <100%, >=60% should be >=60%.'),\n",
       " Document(id='6b3088f5-8fd3-4ed4-8aa5-a893a5b8d67b', metadata={'creationdate': '2025-08-14T12:02:07+00:00', 'creator': 'Microsoft® Word LTSC', 'page': 0, 'page_label': '1', 'author': 'user', 'moddate': '2025-08-14T12:02:07+00:00', 'total_pages': 3, 'producer': 'Microsoft® Word LTSC', 'source': 'c:\\\\Users\\\\user\\\\Documents\\\\NPL\\\\LLM-WOKG\\\\Notebooks\\\\vectorDocs\\\\KRI GUIDE.pdf'}, page_content='GUIDE FOR FUTURE KRI DOCUMENTS \\n1. Unit – No comments  \\n2. SN – No comments \\n3. KRI Standard – No comments \\n4. Key Risk Indicator \\na. As part of ETL findings, some identified risks are not potential risks the company \\nfaces. The document must be reevaluated for data quality purposes. For \\nexample, ‘# total number of requests received’ (Total media correspondences \\n(including social media) that have been reported and percentage of closed \\nrequests) is not a risk to the company. \\n5. Basis for compilation of KRI data – No comments \\n6. Risk Category  \\na. For dashboarding risk should be categorized by the different types of risks, not \\nonly operational risk i.e. IT, operational, compliance, reputational, credit, \\nliquidity, market, strategic, governance risk. \\nb. The description of the risk should be considered when doing categorization.  \\nc. Care should be taken to avoid the inclusion of numbers, special characters, and \\nspelling mistakes. \\n7. Threshold Limits \\na. If threshold limit does not exist, value should be set to null. Do not use N/A, _, -, \\nTBD, or any other special characters. \\nb. The description of the KRI should match the threshold limit. For example, \\nAmount of aggregate loss event should be an amount in a currency and not < \\n0.1% of PBT. \\nc. If threshold limit is a fraction/percentage of another measurement, the format \\nshould be {percentage} of {value}. For example, <0.1% of PBT.  \\nd. If threshold limit is per another value, the format should be {percentage} per \\n{value}. For example, <0.1% per PFI. The value after per would be placed in a \\nContext Per column for dashboarding.  \\ne. Numerical values should not include their natural language equivalent separated \\nby ‘=’. Instead of 100%=Established & operational, do 100%. \\nf. If natural language must be included in value do not include a comma or any')]"
      ]
     },
     "execution_count": 37,
     "metadata": {},
     "output_type": "execute_result"
    }
   ],
   "source": [
    "vectorAns"
   ]
  },
  {
   "cell_type": "code",
   "execution_count": 38,
   "id": "9cb27883",
   "metadata": {},
   "outputs": [
    {
     "data": {
      "text/plain": [
       "'characters. Do not do Ghanaian Cedi or Gh.Cedi, instead do GHC. Also, separate \\ncurrency and value with a space. \\nl. All comparisons should be signs and not be in natural language. Instead of Shall \\nnot be lower than or Shall not exceed, do >= and <= respectively. \\nm. Comparisons should not have spaces e.g. > = should be >=. \\nn. All threshold limits should be expressed as numbers and not in natural language. \\nValues like Established & operational, Full policy coverage, and Licensed(0) \\nshould not be in the column. Numeric equivalents should be used instead. \\n8. Tolerance Limit  \\na. All instruction for 6. Threshold Limits apply to Tolerance Limit. \\nb. If tolerance limit is a range, eg. >0, <=1 upper bound of the range should be used. \\nInstead of >0, <=1 do <=1. Note that upper bound may differ according to KRI \\nmeasurement. E.g. <100%, >=60% should be >=60%.\\n\\nGUIDE FOR FUTURE KRI DOCUMENTS \\n1. Unit – No comments  \\n2. SN – No comments \\n3. KRI Standard – No comments \\n4. Key Risk Indicator \\na. As part of ETL findings, some identified risks are not potential risks the company \\nfaces. The document must be reevaluated for data quality purposes. For \\nexample, ‘# total number of requests received’ (Total media correspondences \\n(including social media) that have been reported and percentage of closed \\nrequests) is not a risk to the company. \\n5. Basis for compilation of KRI data – No comments \\n6. Risk Category  \\na. For dashboarding risk should be categorized by the different types of risks, not \\nonly operational risk i.e. IT, operational, compliance, reputational, credit, \\nliquidity, market, strategic, governance risk. \\nb. The description of the risk should be considered when doing categorization.  \\nc. Care should be taken to avoid the inclusion of numbers, special characters, and \\nspelling mistakes. \\n7. Threshold Limits \\na. If threshold limit does not exist, value should be set to null. Do not use N/A, _, -, \\nTBD, or any other special characters. \\nb. The description of the KRI should match the threshold limit. For example, \\nAmount of aggregate loss event should be an amount in a currency and not < \\n0.1% of PBT. \\nc. If threshold limit is a fraction/percentage of another measurement, the format \\nshould be {percentage} of {value}. For example, <0.1% of PBT.  \\nd. If threshold limit is per another value, the format should be {percentage} per \\n{value}. For example, <0.1% per PFI. The value after per would be placed in a \\nContext Per column for dashboarding.  \\ne. Numerical values should not include their natural language equivalent separated \\nby ‘=’. Instead of 100%=Established & operational, do 100%. \\nf. If natural language must be included in value do not include a comma or any'"
      ]
     },
     "execution_count": 38,
     "metadata": {},
     "output_type": "execute_result"
    }
   ],
   "source": [
    "retrieved_content = [ans.page_content for ans in vectorAns]\n",
    "content = \"\\n\\n\".join(retrieved_content)\n",
    "content"
   ]
  },
  {
   "cell_type": "code",
   "execution_count": 30,
   "id": "1d5bedb9",
   "metadata": {},
   "outputs": [],
   "source": [
    "from langchain_core.prompts import ChatPromptTemplate"
   ]
  },
  {
   "cell_type": "code",
   "execution_count": 39,
   "id": "a36436be",
   "metadata": {},
   "outputs": [],
   "source": [
    "prompt = ChatPromptTemplate.from_messages([\n",
    "    (\n",
    "        \"system\",\n",
    "        '''\n",
    "        You are an assistant that answers questions about a guide for preparing a key risk indicator document for a company. Given a user question {question} and some documents {documents}, provides concise answer by looking through the documents.\n",
    "        '''\n",
    "    ),\n",
    "    (\"human\",\n",
    "     '''\n",
    "    User question: {question}\n",
    "    Documents: {documents}\n",
    "\n",
    "    Provide a concise answer\n",
    "'''\n",
    "     )\n",
    "])"
   ]
  },
  {
   "cell_type": "code",
   "execution_count": 41,
   "id": "4dc9b33b",
   "metadata": {},
   "outputs": [],
   "source": [
    "rag = prompt.invoke({\n",
    "    \"question\": message, \n",
    "    \"documents\": retrieved_content\n",
    "})\n",
    "response = sql_agent_llm.invoke(rag)"
   ]
  },
  {
   "cell_type": "code",
   "execution_count": 43,
   "id": "b313c362",
   "metadata": {},
   "outputs": [
    {
     "data": {
      "text/plain": [
       "'To represent currencies in your KRI document, use GHC instead of Ghanaian Cedi or Gh.Cedi. Also, separate currency and value with a space.'"
      ]
     },
     "execution_count": 43,
     "metadata": {},
     "output_type": "execute_result"
    }
   ],
   "source": [
    "response.content"
   ]
  }
 ],
 "metadata": {
  "kernelspec": {
   "display_name": "llm (3.13.5)",
   "language": "python",
   "name": "python3"
  },
  "language_info": {
   "codemirror_mode": {
    "name": "ipython",
    "version": 3
   },
   "file_extension": ".py",
   "mimetype": "text/x-python",
   "name": "python",
   "nbconvert_exporter": "python",
   "pygments_lexer": "ipython3",
   "version": "3.13.5"
  }
 },
 "nbformat": 4,
 "nbformat_minor": 5
}
