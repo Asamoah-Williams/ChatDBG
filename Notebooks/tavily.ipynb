{
 "cells": [
  {
   "cell_type": "code",
   "execution_count": null,
   "id": "9ec054e4",
   "metadata": {},
   "outputs": [],
   "source": [
    "import os\n",
    "from langchain_community.tools.tavily_search import TavilySearchResults "
   ]
  },
  {
   "cell_type": "code",
   "execution_count": 2,
   "id": "95638873",
   "metadata": {},
   "outputs": [],
   "source": [
    "os.environ[\"TAVILY_API_KEY\"] = os.getenv(\"TAVILY_API_KEY\")"
   ]
  },
  {
   "cell_type": "code",
   "execution_count": 3,
   "id": "9aa38857",
   "metadata": {},
   "outputs": [
    {
     "name": "stderr",
     "output_type": "stream",
     "text": [
      "C:\\Users\\user\\AppData\\Local\\Temp\\ipykernel_10260\\1166727888.py:1: LangChainDeprecationWarning: The class `TavilySearchResults` was deprecated in LangChain 0.3.25 and will be removed in 1.0. An updated version of the class exists in the :class:`~langchain-tavily package and should be used instead. To use it run `pip install -U :class:`~langchain-tavily` and import as `from :class:`~langchain_tavily import TavilySearch``.\n",
      "  webTool = TavilySearchResults(\n"
     ]
    }
   ],
   "source": [
    "webTool = TavilySearchResults(\n",
    "    max_results = 2\n",
    ")"
   ]
  },
  {
   "cell_type": "code",
   "execution_count": 4,
   "id": "d16158a2",
   "metadata": {},
   "outputs": [
    {
     "data": {
      "text/plain": [
       "[{'title': 'Five Popular Risk Management Frameworks',\n",
       "  'url': 'https://empoweredsystems.com/blog/five-popular-risk-management-frameworks/',\n",
       "  'content': 'Understanding which framework might be right for your organization is critical to effective risk management. In this blog post, we’ve taken a look at five popular frameworks: COSO ERM Framework; ISO 31000 Risk Management Standard; NIST Cybersecurity Framework (CSF); ITIL Service Lifecycle; and OCTAVE Allegro. We hope this overview has helped you better understand each framework and what it has to offer your organization.',\n",
       "  'score': 0.8925721},\n",
       " {'title': 'Risk Management Framework (RMF) & Its Components - Metricstream',\n",
       "  'url': 'https://www.metricstream.com/learn/risk-management-framework-and-components.html',\n",
       "  'content': 'Common risk management frameworks include NIST RMF, ISO 31000, COSO ERM, FAIR (Factor Analysis of Information Risk), and COBIT (Control Objectives for Information and Related Technologies). These frameworks guide organizations in identifying, assessing, and mitigating risks effectively.\\n\\n   ### What are the best practices for risk management frameworks? [...] Common risk management frameworks include NIST RMF, ISO 31000, COSO ERM, FAIR (Factor Analysis of Information Risk), and COBIT (Control Objectives for Information and Related Technologies). These frameworks guide organizations in identifying, assessing, and mitigating risks effectively.\\n\\n   ### What are the best practices for risk management frameworks? [...] A robust risk management framework is comprised of various components, including risk identification, risk assessment, risk mitigation, monitoring and reviewing, reporting, governance, and continuous improvement.\\n   Implementing a comprehensive risk management framework helps organizations boost operational efficiency, financial performance, stakeholder trust, compliance posture, and more.\\n   COSO and ISO 31000 are two of the most widely used risk management frameworks.',\n",
       "  'score': 0.8795718}]"
      ]
     },
     "execution_count": 4,
     "metadata": {},
     "output_type": "execute_result"
    }
   ],
   "source": [
    "webTool.invoke(\"What are the frameworks for risk?\")"
   ]
  }
 ],
 "metadata": {
  "kernelspec": {
   "display_name": "llm (3.13.5)",
   "language": "python",
   "name": "python3"
  },
  "language_info": {
   "codemirror_mode": {
    "name": "ipython",
    "version": 3
   },
   "file_extension": ".py",
   "mimetype": "text/x-python",
   "name": "python",
   "nbconvert_exporter": "python",
   "pygments_lexer": "ipython3",
   "version": "3.13.5"
  }
 },
 "nbformat": 4,
 "nbformat_minor": 5
}
